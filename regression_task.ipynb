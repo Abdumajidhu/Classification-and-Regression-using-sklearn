{
 "cells": [
  {
   "cell_type": "raw",
   "metadata": {
    "collapsed": true
   },
   "source": [
    "# Aurthor ---> Semakula Abdumajidhu\n",
    "# Contact ---> semakula@live.com"
   ]
  },
  {
   "cell_type": "markdown",
   "metadata": {},
   "source": [
    "In this session, i am going to perform regression task with sklearn. It will involve;\n",
    "\n",
    "Reading data into a numpy array - or into a form you can use for training your algorithms\n",
    "Using sklearn split the data into a training set of 80% of the training set and 20% for the test set\n",
    "Training an RandomForest Regression algorithm on the training data and get a score for the error on the test set\n",
    "Use another performance measure in sklearn apart from the accuracy for how your algorithm performs on the test data."
   ]
  },
  {
   "cell_type": "code",
   "execution_count": 33,
   "metadata": {
    "collapsed": true
   },
   "outputs": [],
   "source": [
    "import numpy as np\n",
    "import scipy as sp\n",
    "import urllib\n",
    "import pandas as pd\n",
    "from sklearn import *\n",
    "from sklearn.ensemble import RandomForestRegressor\n",
    "from sklearn.metrics import mean_squared_error\n",
    "from sklearn.cross_validation import train_test_split"
   ]
  },
  {
   "cell_type": "code",
   "execution_count": 34,
   "metadata": {
    "collapsed": true
   },
   "outputs": [],
   "source": [
    "#read the data into a numpy array\n",
    "x_reg = np.loadtxt('data/X_regressiondata.txt',delimiter=',')\n",
    "y_reg = np.loadtxt('data/y_regressiondata.txt')"
   ]
  },
  {
   "cell_type": "code",
   "execution_count": 35,
   "metadata": {
    "collapsed": true
   },
   "outputs": [],
   "source": [
    "# split the data into a training set of 80% of the training set and 20% for the test set"
   ]
  },
  {
   "cell_type": "code",
   "execution_count": 36,
   "metadata": {
    "collapsed": true
   },
   "outputs": [],
   "source": [
    "x_reg_tr = len(x_reg)*0.8\n",
    "y_reg_tr = len(y_reg)*0.8\n",
    "traindatax = x_reg[:int(x_reg_tr)]\n",
    "traindatay = y_reg[:int(y_reg_tr)]\n",
    "testdatx = x_reg[int(y_reg_tr):]\n",
    "testdatay = y_reg[int(y_reg_tr):]"
   ]
  },
  {
   "cell_type": "code",
   "execution_count": 37,
   "metadata": {
    "collapsed": true
   },
   "outputs": [],
   "source": [
    "# Data Reshaping"
   ]
  },
  {
   "cell_type": "code",
   "execution_count": 38,
   "metadata": {
    "collapsed": true
   },
   "outputs": [],
   "source": [
    "train_datax =traindatax[:,None]\n",
    "train_datay = traindatay[:,None]\n",
    "test_datax = testdatx[:,None]\n",
    "test_datay = testdatay[:,None]"
   ]
  },
  {
   "cell_type": "code",
   "execution_count": 39,
   "metadata": {
    "collapsed": true
   },
   "outputs": [],
   "source": [
    "# A score for the error on the test set"
   ]
  },
  {
   "cell_type": "code",
   "execution_count": 40,
   "metadata": {},
   "outputs": [
    {
     "name": "stderr",
     "output_type": "stream",
     "text": [
      "/home/sem7aula/anaconda3/lib/python3.6/site-packages/ipykernel_launcher.py:3: DataConversionWarning: A column-vector y was passed when a 1d array was expected. Please change the shape of y to (n_samples,), for example using ravel().\n",
      "  This is separate from the ipykernel package so we can avoid doing imports until\n"
     ]
    },
    {
     "data": {
      "text/plain": [
       "0.37"
      ]
     },
     "execution_count": 40,
     "metadata": {},
     "output_type": "execute_result"
    }
   ],
   "source": [
    "\n",
    "reg = RandomForestRegressor()\n",
    "reg.fit(train_datax.astype(int),train_datay.astype(int))\n",
    "x_pre= reg.predict(test_datax.astype(int))\n",
    "mean_squared_error(x_pre.astype(int), test_datay.astype(int))"
   ]
  },
  {
   "cell_type": "code",
   "execution_count": 41,
   "metadata": {
    "collapsed": true
   },
   "outputs": [],
   "source": [
    "# Use another performance measure in sklearn apart from the accuracy for how your algorithm performs on the test data."
   ]
  },
  {
   "cell_type": "code",
   "execution_count": 43,
   "metadata": {},
   "outputs": [
    {
     "name": "stdout",
     "output_type": "stream",
     "text": [
      "0 / 350 correct\n"
     ]
    },
    {
     "name": "stderr",
     "output_type": "stream",
     "text": [
      "/home/sem7aula/anaconda3/lib/python3.6/site-packages/sklearn/utils/validation.py:395: DeprecationWarning: Passing 1d arrays as data is deprecated in 0.17 and will raise ValueError in 0.19. Reshape your data either using X.reshape(-1, 1) if your data has a single feature or X.reshape(1, -1) if it contains a single sample.\n",
      "  DeprecationWarning)\n",
      "/home/sem7aula/anaconda3/lib/python3.6/site-packages/sklearn/utils/validation.py:395: DeprecationWarning: Passing 1d arrays as data is deprecated in 0.17 and will raise ValueError in 0.19. Reshape your data either using X.reshape(-1, 1) if your data has a single feature or X.reshape(1, -1) if it contains a single sample.\n",
      "  DeprecationWarning)\n",
      "/home/sem7aula/anaconda3/lib/python3.6/site-packages/ipykernel_launcher.py:9: DeprecationWarning: elementwise == comparison failed; this will raise an error in the future.\n",
      "  if __name__ == '__main__':\n"
     ]
    }
   ],
   "source": [
    "x_reg_train, x_reg_test = train_test_split(x_reg, test_size =0.3,random_state=2)\n",
    "y_reg_train, y_reg_text = train_test_split(y_reg, test_size=0.3, random_state=2)\n",
    "\n",
    "y_reg_train = y_reg_train.reshape(1,-1)\n",
    "\n",
    "reg = RandomForestRegressor()\n",
    "reg.fit(x_reg_train, y_reg_train)\n",
    "y_pred = reg.predict(x_reg_train)\n",
    "print(\"{0} / {1} correct\".format(np.sum(y_reg_text == y_pred), y_reg_train.size))"
   ]
  },
  {
   "cell_type": "code",
   "execution_count": null,
   "metadata": {
    "collapsed": true
   },
   "outputs": [],
   "source": []
  }
 ],
 "metadata": {
  "kernelspec": {
   "display_name": "Python 3",
   "language": "python",
   "name": "python3"
  },
  "language_info": {
   "codemirror_mode": {
    "name": "ipython",
    "version": 3
   },
   "file_extension": ".py",
   "mimetype": "text/x-python",
   "name": "python",
   "nbconvert_exporter": "python",
   "pygments_lexer": "ipython3",
   "version": "3.6.1"
  }
 },
 "nbformat": 4,
 "nbformat_minor": 2
}
