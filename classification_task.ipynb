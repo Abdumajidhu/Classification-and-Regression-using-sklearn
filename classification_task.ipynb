{
 "cells": [
  {
   "cell_type": "code",
   "execution_count": 48,
   "metadata": {
    "collapsed": true
   },
   "outputs": [],
   "source": [
    "# Aurthor ---> Semakula Abdumajidhu\n",
    "# Contact ---> semakula@live.com"
   ]
  },
  {
   "cell_type": "markdown",
   "metadata": {},
   "source": [
    "In this session, i am going to perform classsification task with sklearn. It will involve;\n",
    "\n",
    "Reading data into a numpy array - or into a form you can use for training your algorithms\n",
    "Splitting the data into a training set of 80% of the training set and 20% for the test set.\n",
    "Training an SVM algorithm on the training data and get a score for the accuracy on the test set\n",
    "\n",
    "Using another performance measure in sklearn apart from the accuracy for how your algorithm performs on the test data.\n",
    "Using sklearn run an 10 fold cross validation using all the data and provide the 10 scores for each validation run. Provide also the mean value for \n",
    "the 10 validation runs."
   ]
  },
  {
   "cell_type": "code",
   "execution_count": 49,
   "metadata": {
    "collapsed": true
   },
   "outputs": [],
   "source": [
    "import numpy as np\n",
    "import scipy as sp\n",
    "import urllib\n",
    "import pandas as pd\n",
    "from sklearn import *\n",
    "from sklearn.ensemble import RandomForestRegressor\n",
    "from sklearn.metrics import mean_squared_error\n",
    "from sklearn.cross_validation import train_test_split\n",
    "from sklearn.metrics import accuracy_score\n",
    "from sklearn.model_selection import KFold"
   ]
  },
  {
   "cell_type": "code",
   "execution_count": 50,
   "metadata": {
    "collapsed": true
   },
   "outputs": [],
   "source": [
    "#read the data into a numpy array"
   ]
  },
  {
   "cell_type": "code",
   "execution_count": 51,
   "metadata": {
    "collapsed": true
   },
   "outputs": [],
   "source": [
    "\n",
    "x_file = np.loadtxt('data/X_classificationdata.txt',delimiter=',')\n",
    "y_file = np.loadtxt('data/y_classificationdata.txt')\n"
   ]
  },
  {
   "cell_type": "code",
   "execution_count": 52,
   "metadata": {
    "collapsed": true
   },
   "outputs": [],
   "source": [
    "# split the data into a training set of 80% of the training set and 20% for the test set"
   ]
  },
  {
   "cell_type": "code",
   "execution_count": 53,
   "metadata": {
    "collapsed": true
   },
   "outputs": [],
   "source": [
    "\n",
    "x_train,x_test = train_test_split(x_file, test_size=0.2, random_state=1)\n",
    "y_train,y_test = train_test_split(y_file, test_size=0.2, random_state=1)"
   ]
  },
  {
   "cell_type": "code",
   "execution_count": 54,
   "metadata": {
    "collapsed": true
   },
   "outputs": [],
   "source": [
    "#Train an SVM algorithm on the training data and get a score for the accuracy on the test set"
   ]
  },
  {
   "cell_type": "code",
   "execution_count": 55,
   "metadata": {},
   "outputs": [
    {
     "data": {
      "text/plain": [
       "1.0"
      ]
     },
     "execution_count": 55,
     "metadata": {},
     "output_type": "execute_result"
    }
   ],
   "source": [
    "\n",
    "classifier = svm.SVC()\n",
    "classifier.fit(x_train,y_train)\n",
    "y_predict = classifier.predict(x_test)\n",
    "accuracy_score(y_test,y_predict)"
   ]
  },
  {
   "cell_type": "code",
   "execution_count": 56,
   "metadata": {},
   "outputs": [
    {
     "name": "stdout",
     "output_type": "stream",
     "text": [
      "200/200 correct\n"
     ]
    }
   ],
   "source": [
    "print(\"{0}/{1} correct\".format(np.sum(y_test == y_predict),(y_test.size)))"
   ]
  },
  {
   "cell_type": "markdown",
   "metadata": {},
   "source": [
    "#Use another performance measure in sklearn apart from the accuracy for how your algorithm performs on the test data.\n",
    "#Cross-validation performance measure"
   ]
  },
  {
   "cell_type": "code",
   "execution_count": 57,
   "metadata": {},
   "outputs": [
    {
     "data": {
      "text/plain": [
       "1.0"
      ]
     },
     "execution_count": 57,
     "metadata": {},
     "output_type": "execute_result"
    }
   ],
   "source": [
    "\n",
    "clf = svm.SVC(kernel='linear', C=1)\n",
    "clf.fit(x_train, y_train)\n",
    "clf.score(x_test,y_test)"
   ]
  },
  {
   "cell_type": "code",
   "execution_count": 58,
   "metadata": {
    "collapsed": true
   },
   "outputs": [],
   "source": [
    "# run an 10 fold cross validation using all the data and provide the 10 scores for each validation run. Provide also the mean value for the 10 validation runs"
   ]
  },
  {
   "cell_type": "code",
   "execution_count": 59,
   "metadata": {},
   "outputs": [
    {
     "name": "stdout",
     "output_type": "stream",
     "text": [
      "1.0\n",
      "1.0\n",
      "1.0\n",
      "1.0\n",
      "1.0\n",
      "1.0\n",
      "1.0\n",
      "1.0\n",
      "1.0\n",
      "1.0\n",
      "mean_validation: 1.0\n"
     ]
    }
   ],
   "source": [
    "\n",
    "x_kf = KFold(n_splits=10)\n",
    "x_kf.get_n_splits(x_file)\n",
    "y_kf = KFold(n_splits=10)\n",
    "y_kf.get_n_splits(y_file)\n",
    "mean_val = 0\n",
    "for train_id, test_id in x_kf.split(x_file):\n",
    "    for train_id, test_id in y_kf.split(y_file):\n",
    "        x_train, x_test = x_file[train_id], x_file[test_id]\n",
    "        y_train, y_test = y_file[train_id],y_file[test_id]\n",
    "    clf = svm.SVC(kernel='linear', C=1)\n",
    "    clf.fit(x_train, y_train)\n",
    "    print (clf.score(x_test,y_test))\n",
    "#the mean value for the 10 validation runs\n",
    "    mean_val = mean_val + (clf.score(x_test,y_test))\n",
    "print(\"mean_validation:\",mean_val/10)\n",
    "    "
   ]
  },
  {
   "cell_type": "code",
   "execution_count": null,
   "metadata": {
    "collapsed": true
   },
   "outputs": [],
   "source": []
  }
 ],
 "metadata": {
  "kernelspec": {
   "display_name": "Python 3",
   "language": "python",
   "name": "python3"
  },
  "language_info": {
   "codemirror_mode": {
    "name": "ipython",
    "version": 3
   },
   "file_extension": ".py",
   "mimetype": "text/x-python",
   "name": "python",
   "nbconvert_exporter": "python",
   "pygments_lexer": "ipython3",
   "version": "3.6.1"
  }
 },
 "nbformat": 4,
 "nbformat_minor": 2
}
